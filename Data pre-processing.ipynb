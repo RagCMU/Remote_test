{
 "cells": [
  {
   "cell_type": "markdown",
   "id": "2fa35844-beb8-4d7e-a573-618b7a151b09",
   "metadata": {},
   "source": [
    "#### Senior Analyst assignment \n",
    "#### Data pre-processing"
   ]
  },
  {
   "cell_type": "code",
   "execution_count": 30,
   "id": "1360a063-9db1-49aa-8edb-bfe149dd57ab",
   "metadata": {},
   "outputs": [],
   "source": [
    "\n",
    "\n",
    "\n",
    "# Import packages\n",
    "\n",
    "import pandas as pd\n",
    "import sqlite3\n",
    "from sqlalchemy.types import *\n",
    "\n"
   ]
  },
  {
   "cell_type": "code",
   "execution_count": 31,
   "id": "ffdbeb5e-a392-4f78-a4de-a7baa2abc44a",
   "metadata": {},
   "outputs": [],
   "source": [
    "\n",
    "\n",
    "#Read dim_customer file\n",
    "dim_customer = pd.read_csv(\"/Users/ragwendraacharya/Downloads/Senior Data Analyst Assignment - DimCustomer.csv\",index_col=False)\n",
    "dim_customer_2 = pd.read_csv(\"/Users/ragwendraacharya/Downloads/Senior Data Analyst Assignment - DimCustomer.csv\",index_col=False)\n",
    "\n",
    "#Read dim_product file\n",
    "dim_product = pd.read_csv(\"/Users/ragwendraacharya/Downloads/Senior Data Analyst Assignment - DimProduct.csv\",index_col=False)\n",
    "\n",
    "#Read dimsalesterritory file\n",
    "dimsales_ = pd.read_csv(\"/Users/ragwendraacharya/Downloads/Senior Data Analyst Assignment - DimSalesTerritory.csv\",index_col=False)\n",
    "\n",
    "#Read factressellerssales\n",
    "factrsellers = pd.read_csv(\"/Users/ragwendraacharya/Downloads/Senior Data Analyst Assignment - FactResellerSales.csv\",index_col=False)\n",
    "\n",
    "#Read diminvoices file\n",
    "dim_invoices = pd.read_csv(\"/Users/ragwendraacharya/Downloads/Senior Data Analyst Assignment - DimInvoices.csv\",index_col=False)\n"
   ]
  },
  {
   "cell_type": "markdown",
   "id": "8b0bcff2-edd0-426b-8ef1-7bcc47d6001c",
   "metadata": {},
   "source": [
    "#### Dim customer data set"
   ]
  },
  {
   "cell_type": "code",
   "execution_count": 32,
   "id": "c88afced-fe02-4f3f-a4c9-523bf14e90e5",
   "metadata": {},
   "outputs": [
    {
     "name": "stdout",
     "output_type": "stream",
     "text": [
      "   CustomerKey  GeographyKey CustomerAlternateKey Title  FirstName MiddleName  \\\n",
      "0        11000            26           AW00011000   NaN        Jon          V   \n",
      "1        11001            37           AW00011001   NaN     Eugene          L   \n",
      "2        11002            31           AW00011002   NaN      Ruben        NaN   \n",
      "3        11003            11           AW00011003   NaN    Christy        NaN   \n",
      "4        11004            19           AW00011004   NaN  Elizabeth        NaN   \n",
      "\n",
      "  LastName  NameStyle   BirthDate MaritalStatus  ... EnglishOccupation  \\\n",
      "0     Yang          0  11/11/1996             M  ...      Professional   \n",
      "1    Huang          0  24/04/2022             S  ...      Professional   \n",
      "2   Torres          0    9/4/1990             M  ...      Professional   \n",
      "3      Zhu          0    2/5/1988             S  ...      Professional   \n",
      "4  Johnson          0  29/03/1979             S  ...      Professional   \n",
      "\n",
      "  SpanishOccupation FrenchOccupation  HouseOwnerFlag  NumberCarsOwned  \\\n",
      "0       Profesional            Cadre               1                0   \n",
      "1       Profesional            Cadre               0                1   \n",
      "2       Profesional            Cadre               1                1   \n",
      "3       Profesional            Cadre               0                1   \n",
      "4       Profesional            Cadre               1                4   \n",
      "\n",
      "          AddressLine1 AddressLine2                Phone DateFirstPurchase  \\\n",
      "0      3761 N. 14th St          NaN  1 (11) 500 555-0162          19/01/11   \n",
      "1           2243 W St.          NaN  1 (11) 500 555-0110          15/01/11   \n",
      "2     5844 Linden Land          NaN  1 (11) 500 555-0184          07/01/11   \n",
      "3     1825 Village Pl.          NaN  1 (11) 500 555-0162          29/12/10   \n",
      "4  7553 Harness Circle          NaN  1 (11) 500 555-0131          23/01/11   \n",
      "\n",
      "  CommuteDistance  \n",
      "0       1-2 Miles  \n",
      "1       0-1 Miles  \n",
      "2       2-5 Miles  \n",
      "3      5-10 Miles  \n",
      "4       1-2 Miles  \n",
      "\n",
      "[5 rows x 29 columns]\n"
     ]
    }
   ],
   "source": [
    "#print the first 5 rows of dim_customer\n",
    "print(dim_customer.head())"
   ]
  },
  {
   "cell_type": "code",
   "execution_count": 33,
   "id": "f5e673b7-cf9e-427b-a603-4ae0fd09c32e",
   "metadata": {},
   "outputs": [
    {
     "name": "stdout",
     "output_type": "stream",
     "text": [
      "<class 'pandas.core.frame.DataFrame'>\n",
      "RangeIndex: 18484 entries, 0 to 18483\n",
      "Data columns (total 29 columns):\n",
      " #   Column                Non-Null Count  Dtype \n",
      "---  ------                --------------  ----- \n",
      " 0   CustomerKey           18484 non-null  int64 \n",
      " 1   GeographyKey          18484 non-null  int64 \n",
      " 2   CustomerAlternateKey  18484 non-null  object\n",
      " 3   Title                 101 non-null    object\n",
      " 4   FirstName             18484 non-null  object\n",
      " 5   MiddleName            10654 non-null  object\n",
      " 6   LastName              18484 non-null  object\n",
      " 7   NameStyle             18484 non-null  int64 \n",
      " 8   BirthDate             18484 non-null  object\n",
      " 9   MaritalStatus         18484 non-null  object\n",
      " 10  Suffix                3 non-null      object\n",
      " 11  Gender                18484 non-null  object\n",
      " 12  EmailAddress          18484 non-null  object\n",
      " 13  YearlyIncome          18484 non-null  int64 \n",
      " 14  TotalChildren         18484 non-null  int64 \n",
      " 15  NumberChildrenAtHome  18484 non-null  int64 \n",
      " 16  EnglishEducation      18484 non-null  object\n",
      " 17  SpanishEducation      18484 non-null  object\n",
      " 18  FrenchEducation       18484 non-null  object\n",
      " 19  EnglishOccupation     18484 non-null  object\n",
      " 20  SpanishOccupation     18484 non-null  object\n",
      " 21  FrenchOccupation      18484 non-null  object\n",
      " 22  HouseOwnerFlag        18484 non-null  int64 \n",
      " 23  NumberCarsOwned       18484 non-null  int64 \n",
      " 24  AddressLine1          18484 non-null  object\n",
      " 25  AddressLine2          312 non-null    object\n",
      " 26  Phone                 18484 non-null  object\n",
      " 27  DateFirstPurchase     18484 non-null  object\n",
      " 28  CommuteDistance       18484 non-null  object\n",
      "dtypes: int64(8), object(21)\n",
      "memory usage: 4.1+ MB\n",
      "None\n"
     ]
    }
   ],
   "source": [
    "#Print the file info \n",
    "print(dim_customer.info())"
   ]
  },
  {
   "cell_type": "markdown",
   "id": "5e41292f-7d92-45f8-8dc5-7f371583026c",
   "metadata": {},
   "source": [
    "We can observe that there are 18484 with 29 columns with some columns having NULL values, lets check which columns have null values"
   ]
  },
  {
   "cell_type": "code",
   "execution_count": 34,
   "id": "55400b53-c4c2-4789-afb0-36eb986a98ae",
   "metadata": {},
   "outputs": [
    {
     "name": "stdout",
     "output_type": "stream",
     "text": [
      "CustomerKey             False\n",
      "GeographyKey            False\n",
      "CustomerAlternateKey    False\n",
      "Title                    True\n",
      "FirstName               False\n",
      "MiddleName               True\n",
      "LastName                False\n",
      "NameStyle               False\n",
      "BirthDate               False\n",
      "MaritalStatus           False\n",
      "Suffix                   True\n",
      "Gender                  False\n",
      "EmailAddress            False\n",
      "YearlyIncome            False\n",
      "TotalChildren           False\n",
      "NumberChildrenAtHome    False\n",
      "EnglishEducation        False\n",
      "SpanishEducation        False\n",
      "FrenchEducation         False\n",
      "EnglishOccupation       False\n",
      "SpanishOccupation       False\n",
      "FrenchOccupation        False\n",
      "HouseOwnerFlag          False\n",
      "NumberCarsOwned         False\n",
      "AddressLine1            False\n",
      "AddressLine2             True\n",
      "Phone                   False\n",
      "DateFirstPurchase       False\n",
      "CommuteDistance         False\n",
      "dtype: bool\n"
     ]
    }
   ],
   "source": [
    "# check for Null values in each column\n",
    "print(dim_customer.isnull().any())"
   ]
  },
  {
   "cell_type": "code",
   "execution_count": 35,
   "id": "225d627b-d7b5-4e1a-93ad-2f6fbf6fd1a3",
   "metadata": {},
   "outputs": [
    {
     "name": "stdout",
     "output_type": "stream",
     "text": [
      "Number of null values: 62866\n"
     ]
    }
   ],
   "source": [
    "null_count = dim_customer.isnull().sum().sum()\n",
    "print('Number of null values:', null_count)"
   ]
  },
  {
   "cell_type": "markdown",
   "id": "06233738-49b2-4f13-844c-ed4deafd5842",
   "metadata": {},
   "source": [
    "There are quite a large number of null values in this dataset, lets replace them with non-null so that they do not cause issues while querying.\n",
    "Since all of the above null value columns are String object types we will perform a common operation to replace them at once."
   ]
  },
  {
   "cell_type": "code",
   "execution_count": 36,
   "id": "553b706f-927f-4039-8e20-5244bbb912ac",
   "metadata": {},
   "outputs": [],
   "source": [
    "# Replace null values with empty string  : \n",
    "      \n",
    "dim_customer.fillna(\" \", inplace = True)"
   ]
  },
  {
   "cell_type": "code",
   "execution_count": 37,
   "id": "fa6aff87-7f62-4b12-86f6-bde8ea0572c4",
   "metadata": {},
   "outputs": [
    {
     "name": "stdout",
     "output_type": "stream",
     "text": [
      "Number of null values: 0\n"
     ]
    }
   ],
   "source": [
    "# Now lets check again for null values : \n",
    "null_count_2 = dim_customer.isnull().sum().sum()\n",
    "print('Number of null values:', null_count_2)\n"
   ]
  },
  {
   "cell_type": "markdown",
   "id": "34ffa855-0aef-4ae6-9833-713095dbf382",
   "metadata": {},
   "source": [
    "Now lets check for duplicates within our dataset, the only duplicates we are concerned about is with regards to the *primary key*. The customer dataset has a CustomerKey which can be uniquely used to identify a cusomter. Let's check if this key duplicated anywhere within the dataset."
   ]
  },
  {
   "cell_type": "code",
   "execution_count": 38,
   "id": "51c694aa-8369-490c-b5f6-776548b69389",
   "metadata": {},
   "outputs": [
    {
     "data": {
      "text/plain": [
       "0"
      ]
     },
     "execution_count": 38,
     "metadata": {},
     "output_type": "execute_result"
    }
   ],
   "source": [
    "#Check for CustomerKey duplicates\n",
    "duplicate_rows = dim_customer.duplicated(subset=['CustomerKey'])\n",
    "duplicate_rows.sum()\n"
   ]
  },
  {
   "cell_type": "code",
   "execution_count": null,
   "id": "e2e0c542-4d6b-48b0-8496-d50bc00ff38a",
   "metadata": {},
   "outputs": [],
   "source": [
    "In a similar we are going to perform pre-processing of other datasets before they are loaded into the database"
   ]
  },
  {
   "cell_type": "markdown",
   "id": "04503b91-e909-4268-8f1f-c49974bd20cc",
   "metadata": {},
   "source": [
    "#### Dim Product Dataset"
   ]
  },
  {
   "cell_type": "code",
   "execution_count": 39,
   "id": "eea77900-9705-48b0-87a8-50b087085cad",
   "metadata": {},
   "outputs": [
    {
     "name": "stdout",
     "output_type": "stream",
     "text": [
      "   ProductKey ProductAlternateKey  ProductSubcategoryKey  \\\n",
      "0           1             AR-5381                    NaN   \n",
      "1           2             BA-8327                    NaN   \n",
      "2           3             BE-2349                    NaN   \n",
      "3           4             BE-2908                    NaN   \n",
      "4           5             BL-2036                    NaN   \n",
      "\n",
      "  WeightUnitMeasureCode SizeUnitMeasureCode            ProductName  \\\n",
      "0                   NaN                 NaN        Adjustable Race   \n",
      "1                   NaN                 NaN           Bearing Ball   \n",
      "2                   NaN                 NaN        BB Ball Bearing   \n",
      "3                   NaN                 NaN  Headset Ball Bearings   \n",
      "4                   NaN                 NaN                  Blade   \n",
      "\n",
      "   StandardCost  FinishedGoodsFlag Color  SafetyStockLevel  ...  Weight  \\\n",
      "0           NaN                  0   NaN              1000  ...     NaN   \n",
      "1           NaN                  0   NaN              1000  ...     NaN   \n",
      "2           NaN                  0   NaN               800  ...     NaN   \n",
      "3           NaN                  0   NaN               800  ...     NaN   \n",
      "4           NaN                  0   NaN               800  ...     NaN   \n",
      "\n",
      "   DaysToManufacture ProductLine DealerPrice  Class  Style ModelName  \\\n",
      "0                  0         NaN         NaN    NaN    NaN       NaN   \n",
      "1                  0         NaN         NaN    NaN    NaN       NaN   \n",
      "2                  1         NaN         NaN    NaN    NaN       NaN   \n",
      "3                  0         NaN         NaN    NaN    NaN       NaN   \n",
      "4                  1         NaN         NaN    NaN    NaN       NaN   \n",
      "\n",
      "             StartDate EndDate   Status  \n",
      "0  2003-07-01 00:00:00     NaN  Current  \n",
      "1  2003-07-01 00:00:00     NaN  Current  \n",
      "2  2003-07-01 00:00:00     NaN  Current  \n",
      "3  2003-07-01 00:00:00     NaN  Current  \n",
      "4  2003-07-01 00:00:00     NaN  Current  \n",
      "\n",
      "[5 rows x 24 columns]\n"
     ]
    }
   ],
   "source": [
    "#print the first 5 rows of dim_product\n",
    "print(dim_product.head())"
   ]
  },
  {
   "cell_type": "code",
   "execution_count": 40,
   "id": "8917a4bb-5f35-44e6-9725-016fad597ee9",
   "metadata": {},
   "outputs": [
    {
     "name": "stdout",
     "output_type": "stream",
     "text": [
      "<class 'pandas.core.frame.DataFrame'>\n",
      "RangeIndex: 569 entries, 0 to 568\n",
      "Data columns (total 24 columns):\n",
      " #   Column                 Non-Null Count  Dtype  \n",
      "---  ------                 --------------  -----  \n",
      " 0   ProductKey             569 non-null    int64  \n",
      " 1   ProductAlternateKey    569 non-null    object \n",
      " 2   ProductSubcategoryKey  360 non-null    float64\n",
      " 3   WeightUnitMeasureCode  245 non-null    object \n",
      " 4   SizeUnitMeasureCode    217 non-null    object \n",
      " 5   ProductName            569 non-null    object \n",
      " 6   StandardCost           358 non-null    float64\n",
      " 7   FinishedGoodsFlag      569 non-null    int64  \n",
      " 8   Color                  315 non-null    object \n",
      " 9   SafetyStockLevel       569 non-null    int64  \n",
      " 10  ReorderPoint           569 non-null    int64  \n",
      " 11  ListPrice              358 non-null    float64\n",
      " 12  Size                   263 non-null    object \n",
      " 13  SizeRange              263 non-null    object \n",
      " 14  Weight                 245 non-null    float64\n",
      " 15  DaysToManufacture      569 non-null    int64  \n",
      " 16  ProductLine            344 non-null    object \n",
      " 17  DealerPrice            358 non-null    float64\n",
      " 18  Class                  294 non-null    object \n",
      " 19  Style                  265 non-null    object \n",
      " 20  ModelName              360 non-null    object \n",
      " 21  StartDate              437 non-null    object \n",
      " 22  EndDate                102 non-null    object \n",
      " 23  Status                 335 non-null    object \n",
      "dtypes: float64(5), int64(5), object(14)\n",
      "memory usage: 106.8+ KB\n",
      "None\n"
     ]
    }
   ],
   "source": [
    "#Print the file info \n",
    "print(dim_product.info())"
   ]
  },
  {
   "cell_type": "code",
   "execution_count": 41,
   "id": "60c089c3-f8a1-4c6e-b50b-0bfa78e6cc99",
   "metadata": {},
   "outputs": [
    {
     "name": "stdout",
     "output_type": "stream",
     "text": [
      "ProductKey               False\n",
      "ProductAlternateKey      False\n",
      "ProductSubcategoryKey     True\n",
      "WeightUnitMeasureCode     True\n",
      "SizeUnitMeasureCode       True\n",
      "ProductName              False\n",
      "StandardCost              True\n",
      "FinishedGoodsFlag        False\n",
      "Color                     True\n",
      "SafetyStockLevel         False\n",
      "ReorderPoint             False\n",
      "ListPrice                 True\n",
      "Size                      True\n",
      "SizeRange                 True\n",
      "Weight                    True\n",
      "DaysToManufacture        False\n",
      "ProductLine               True\n",
      "DealerPrice               True\n",
      "Class                     True\n",
      "Style                     True\n",
      "ModelName                 True\n",
      "StartDate                 True\n",
      "EndDate                   True\n",
      "Status                    True\n",
      "dtype: bool\n"
     ]
    }
   ],
   "source": [
    "# check for Null values in each column\n",
    "print(dim_product.isnull().any())"
   ]
  },
  {
   "cell_type": "markdown",
   "id": "2322aa3c-9a0f-4426-b988-8eb1a7ddd108",
   "metadata": {},
   "source": [
    "We can observe that there are 569 entries with 24 columns with 17 columns having NULL values.\n",
    "Since these columns are a mix of numeric and string we will have to handle them seperately."
   ]
  },
  {
   "cell_type": "code",
   "execution_count": 42,
   "id": "fdc1a834-05b2-4b65-9d0d-8477d7c88e05",
   "metadata": {},
   "outputs": [],
   "source": [
    "#For columns with string objects type we convert NULLs to string values 'Unknown'\n",
    "\n",
    "dim_product[[\"WeightUnitMeasureCode\",\"SizeUnitMeasureCode\",\"Color\",\"Size\",\"SizeRange\",\"Class\",\"Style\",\"ModelName\",\"Status\"]] = dim_product[[\"WeightUnitMeasureCode\",\"SizeUnitMeasureCode\",\"Color\",\"Size\",\"SizeRange\",\"Class\",\"Style\",\"ModelName\",\"Status\"]].fillna(value = \"Unknown\")\n"
   ]
  },
  {
   "cell_type": "code",
   "execution_count": 43,
   "id": "6e65ed64-65fb-4ae6-aa82-1ef0d64ce339",
   "metadata": {},
   "outputs": [],
   "source": [
    "#For columns with string objects type we convert NULLs to numeric values '0.0'\n",
    "dim_product[[\"DealerPrice\",\"ProductLine\", \"Weight\", \"ListPrice\", \"StandardCost\",\"ProductSubcategoryKey\"]] = dim_product[[\"DealerPrice\",\"ProductLine\", \"Weight\", \"ListPrice\", \"StandardCost\",\"ProductSubcategoryKey\"]].fillna(value = 0.0)"
   ]
  },
  {
   "cell_type": "code",
   "execution_count": 44,
   "id": "3925f33f-95c6-42de-9846-e91133bb031c",
   "metadata": {},
   "outputs": [],
   "source": [
    "#For columns with date values we convert NULLs to empty string ' '\n",
    "\n",
    "dim_product[[\"EndDate\",\"StartDate\"]] = dim_product[[\"EndDate\",\"StartDate\"]].fillna(value = \" \")"
   ]
  },
  {
   "cell_type": "code",
   "execution_count": 45,
   "id": "31cbe290-1ff1-4a42-8232-592b945b4372",
   "metadata": {},
   "outputs": [
    {
     "name": "stdout",
     "output_type": "stream",
     "text": [
      "ProductKey               False\n",
      "ProductAlternateKey      False\n",
      "ProductSubcategoryKey    False\n",
      "WeightUnitMeasureCode    False\n",
      "SizeUnitMeasureCode      False\n",
      "ProductName              False\n",
      "StandardCost             False\n",
      "FinishedGoodsFlag        False\n",
      "Color                    False\n",
      "SafetyStockLevel         False\n",
      "ReorderPoint             False\n",
      "ListPrice                False\n",
      "Size                     False\n",
      "SizeRange                False\n",
      "Weight                   False\n",
      "DaysToManufacture        False\n",
      "ProductLine              False\n",
      "DealerPrice              False\n",
      "Class                    False\n",
      "Style                    False\n",
      "ModelName                False\n",
      "StartDate                False\n",
      "EndDate                  False\n",
      "Status                   False\n",
      "dtype: bool\n"
     ]
    }
   ],
   "source": [
    "# check for Null values in each column\n",
    "print(dim_product.isnull().any())"
   ]
  },
  {
   "cell_type": "code",
   "execution_count": null,
   "id": "c7261903-8924-46ef-a1a2-1f8f4f6a7002",
   "metadata": {},
   "outputs": [],
   "source": [
    "Now lets check for duplicates for Product Key which unoquely identifies each product. Let's check if this key duplicated anywhere within the dataset."
   ]
  },
  {
   "cell_type": "code",
   "execution_count": 46,
   "id": "57b52de2-793b-4bca-acee-f43d64a31f13",
   "metadata": {},
   "outputs": [
    {
     "data": {
      "text/plain": [
       "0"
      ]
     },
     "execution_count": 46,
     "metadata": {},
     "output_type": "execute_result"
    }
   ],
   "source": [
    "#Check for duplicates\n",
    "\n",
    "duplicate_rows = dim_product.duplicated(subset=['ProductKey'])\n",
    "duplicate_rows.sum()"
   ]
  },
  {
   "cell_type": "markdown",
   "id": "b42ff21e-7842-4809-a349-f7fec3eb3418",
   "metadata": {},
   "source": [
    "#### FactResellersSales Dataset"
   ]
  },
  {
   "cell_type": "code",
   "execution_count": 47,
   "id": "b9dc5283-3d3d-43fc-9361-03cce109e58f",
   "metadata": {},
   "outputs": [
    {
     "name": "stdout",
     "output_type": "stream",
     "text": [
      "   ProductKey  OrderDateKey  DueDateKey  ShipDateKey  ResellerKey  \\\n",
      "0         349      20101229    20110110     20110105          676   \n",
      "1         350      20101229    20110110     20110105          676   \n",
      "2         351      20101229    20110110     20110105          676   \n",
      "3         344      20101229    20110110     20110105          676   \n",
      "4         345      20101229    20110110     20110105          676   \n",
      "\n",
      "   EmployeeKey  PromotionKey  CurrencyKey  SalesTerritoryKey SalesOrderNumber  \\\n",
      "0          285             1          100                  5          SO43659   \n",
      "1          285             1          100                  5          SO43659   \n",
      "2          285             1          100                  5          SO43659   \n",
      "3          285             1          100                  5          SO43659   \n",
      "4          285             1          100                  5          SO43659   \n",
      "\n",
      "   ...  ProductStandardCost  TotalProductCost  SalesAmount    TaxAmt  \\\n",
      "0  ...            1898.0944         1898.0944     2024.994  161.9995   \n",
      "1  ...            1898.0944         5694.2832     6074.982  485.9986   \n",
      "2  ...            1898.0944         1898.0944     2024.994  161.9995   \n",
      "3  ...            1912.1544         1912.1544     2039.994  163.1995   \n",
      "4  ...            1912.1544         1912.1544     2039.994  163.1995   \n",
      "\n",
      "    Freight  CarrierTrackingNumber  CustomerPONumber            OrderDate  \\\n",
      "0   50.6249           4911-403C-98       PO522145787  2010-12-29 00:00:00   \n",
      "1  151.8746           4911-403C-98       PO522145787  2010-12-29 00:00:00   \n",
      "2   50.6249           4911-403C-98       PO522145787  2010-12-29 00:00:00   \n",
      "3   50.9999           4911-403C-98       PO522145787  2010-12-29 00:00:00   \n",
      "4   50.9999           4911-403C-98       PO522145787  2010-12-29 00:00:00   \n",
      "\n",
      "               DueDate             ShipDate  \n",
      "0  2011-01-10 00:00:00  2011-01-05 00:00:00  \n",
      "1  2011-01-10 00:00:00  2011-01-05 00:00:00  \n",
      "2  2011-01-10 00:00:00  2011-01-05 00:00:00  \n",
      "3  2011-01-10 00:00:00  2011-01-05 00:00:00  \n",
      "4  2011-01-10 00:00:00  2011-01-05 00:00:00  \n",
      "\n",
      "[5 rows x 27 columns]\n"
     ]
    }
   ],
   "source": [
    "#print the first 5 rows of dim_product\n",
    "print(factrsellers.head())"
   ]
  },
  {
   "cell_type": "markdown",
   "id": "ff206500-1fdf-4f37-ae16-907357b7930d",
   "metadata": {},
   "source": [
    "This dataset has 5 rows and 27 columns ,seems like dataset has no NULL values at first glance let's do a double check to confirm"
   ]
  },
  {
   "cell_type": "code",
   "execution_count": 48,
   "id": "a8b7d288-b6a8-4e1c-9eb1-9aace619df34",
   "metadata": {},
   "outputs": [
    {
     "name": "stdout",
     "output_type": "stream",
     "text": [
      "ProductKey               False\n",
      "OrderDateKey             False\n",
      "DueDateKey               False\n",
      "ShipDateKey              False\n",
      "ResellerKey              False\n",
      "EmployeeKey              False\n",
      "PromotionKey             False\n",
      "CurrencyKey              False\n",
      "SalesTerritoryKey        False\n",
      "SalesOrderNumber         False\n",
      "SalesOrderLineNumber     False\n",
      "RevisionNumber           False\n",
      "OrderQuantity            False\n",
      "UnitPrice                False\n",
      "ExtendedAmount           False\n",
      "UnitPriceDiscountPct     False\n",
      "DiscountAmount           False\n",
      "ProductStandardCost      False\n",
      "TotalProductCost         False\n",
      "SalesAmount              False\n",
      "TaxAmt                   False\n",
      "Freight                  False\n",
      "CarrierTrackingNumber    False\n",
      "CustomerPONumber         False\n",
      "OrderDate                False\n",
      "DueDate                  False\n",
      "ShipDate                 False\n",
      "dtype: bool\n"
     ]
    }
   ],
   "source": [
    "# check for Null values in each column\n",
    "print(factrsellers.isnull().any())"
   ]
  },
  {
   "cell_type": "code",
   "execution_count": 49,
   "id": "3b48ab38-c7b4-44a2-bf09-733bbb66f28f",
   "metadata": {},
   "outputs": [
    {
     "data": {
      "text/plain": [
       "57059"
      ]
     },
     "execution_count": 49,
     "metadata": {},
     "output_type": "execute_result"
    }
   ],
   "source": [
    "#Check for duplicates\n",
    "duplicate_rows = factrsellers.duplicated(subset=['SalesOrderNumber'])\n",
    "duplicate_rows.sum()"
   ]
  },
  {
   "cell_type": "markdown",
   "id": "13fa8c59-1b05-4adc-b0af-680af4c75852",
   "metadata": {},
   "source": [
    "Looks like the *SalesOrderNumber* is duplicated indicating that it can be used toiniquely identify each row. In this case we will have to create **composite primary key** , which is a combination of 2 or more columns to uniquely identify a entry.\n",
    "\n",
    "In this case we use a combination  *SalesOrderNumber* and *SalesOrderLineNumber* to create this composite primary key. Let's name this new primary key as *SalesOrderId*"
   ]
  },
  {
   "cell_type": "code",
   "execution_count": 50,
   "id": "6ecb6dfc-4632-457d-8514-22786d7ef7ec",
   "metadata": {},
   "outputs": [],
   "source": [
    "# Apply the custom function to create a new column 'SalesOrderId'\n",
    "\n",
    "def combine_columns(row):\n",
    "    return str(row['SalesOrderLineNumber']) + row['SalesOrderNumber']\n",
    "\n",
    "\n",
    "factrsellers['SalesOrderId'] = factrsellers.apply(combine_columns, axis=1)"
   ]
  },
  {
   "cell_type": "code",
   "execution_count": 51,
   "id": "bcc425b1-ddc9-4d55-937f-ad18b45e46cc",
   "metadata": {},
   "outputs": [
    {
     "data": {
      "text/plain": [
       "0    1SO43659\n",
       "1    2SO43659\n",
       "2    3SO43659\n",
       "3    4SO43659\n",
       "4    5SO43659\n",
       "Name: SalesOrderId, dtype: object"
      ]
     },
     "execution_count": 51,
     "metadata": {},
     "output_type": "execute_result"
    }
   ],
   "source": [
    "factrsellers['SalesOrderId'].head()"
   ]
  },
  {
   "cell_type": "code",
   "execution_count": 52,
   "id": "24582777-7619-462d-8bdf-12333296dc13",
   "metadata": {},
   "outputs": [
    {
     "data": {
      "text/plain": [
       "0"
      ]
     },
     "execution_count": 52,
     "metadata": {},
     "output_type": "execute_result"
    }
   ],
   "source": [
    "duplicate_rows = factrsellers.duplicated(subset=['SalesOrderId'])\n",
    "duplicate_rows.sum()"
   ]
  },
  {
   "cell_type": "code",
   "execution_count": null,
   "id": "93d836cf-0d1f-43c8-aa38-4c37883cf367",
   "metadata": {},
   "outputs": [],
   "source": [
    "Using the above approach we achieved a unique composite primary key for the FactResellerSales dataset"
   ]
  },
  {
   "cell_type": "code",
   "execution_count": 53,
   "id": "47310040-a23b-4e97-953e-29f7902e49fe",
   "metadata": {},
   "outputs": [
    {
     "data": {
      "text/html": [
       "<div>\n",
       "<style scoped>\n",
       "    .dataframe tbody tr th:only-of-type {\n",
       "        vertical-align: middle;\n",
       "    }\n",
       "\n",
       "    .dataframe tbody tr th {\n",
       "        vertical-align: top;\n",
       "    }\n",
       "\n",
       "    .dataframe thead th {\n",
       "        text-align: right;\n",
       "    }\n",
       "</style>\n",
       "<table border=\"1\" class=\"dataframe\">\n",
       "  <thead>\n",
       "    <tr style=\"text-align: right;\">\n",
       "      <th></th>\n",
       "      <th>invoice_id</th>\n",
       "      <th>invoice_date</th>\n",
       "      <th>product_type</th>\n",
       "      <th>is_recurring</th>\n",
       "      <th>invoice_status</th>\n",
       "      <th>discount</th>\n",
       "      <th>discounted_amount_usd</th>\n",
       "      <th>amount_usd</th>\n",
       "    </tr>\n",
       "  </thead>\n",
       "  <tbody>\n",
       "    <tr>\n",
       "      <th>0</th>\n",
       "      <td>d8dd452d-7b5d-4a69-9d25-9c55c0b908e6</td>\n",
       "      <td>Jan 1, 2022</td>\n",
       "      <td>NaN</td>\n",
       "      <td>No</td>\n",
       "      <td>invoiced</td>\n",
       "      <td>NaN</td>\n",
       "      <td>4076.0</td>\n",
       "      <td>4076</td>\n",
       "    </tr>\n",
       "    <tr>\n",
       "      <th>1</th>\n",
       "      <td>74af949a-ac7a-4bce-8fa6-e0410952ffda</td>\n",
       "      <td>Jan 2, 2022</td>\n",
       "      <td>EOR Monthly</td>\n",
       "      <td>Yes</td>\n",
       "      <td>pending</td>\n",
       "      <td>20%</td>\n",
       "      <td>173.6</td>\n",
       "      <td>217</td>\n",
       "    </tr>\n",
       "    <tr>\n",
       "      <th>2</th>\n",
       "      <td>de489739-6bf6-4494-9cff-21f0ff5f6d2f</td>\n",
       "      <td>Jan 2, 2022</td>\n",
       "      <td>EOR Monthly</td>\n",
       "      <td>No</td>\n",
       "      <td>invoiced</td>\n",
       "      <td>NaN</td>\n",
       "      <td>263.0</td>\n",
       "      <td>263</td>\n",
       "    </tr>\n",
       "    <tr>\n",
       "      <th>3</th>\n",
       "      <td>608ca796-b1f3-4515-b2e8-404ffacaca58</td>\n",
       "      <td>Jan 3, 2022</td>\n",
       "      <td>EOR Monthly</td>\n",
       "      <td>No</td>\n",
       "      <td>invoiced</td>\n",
       "      <td>NaN</td>\n",
       "      <td>300.0</td>\n",
       "      <td>300</td>\n",
       "    </tr>\n",
       "    <tr>\n",
       "      <th>4</th>\n",
       "      <td>08ec570b-a42d-437e-990b-aedbea16de9d</td>\n",
       "      <td>Jan 4, 2022</td>\n",
       "      <td>EOR Monthly</td>\n",
       "      <td>No</td>\n",
       "      <td>invoiced</td>\n",
       "      <td>NaN</td>\n",
       "      <td>232.0</td>\n",
       "      <td>232</td>\n",
       "    </tr>\n",
       "  </tbody>\n",
       "</table>\n",
       "</div>"
      ],
      "text/plain": [
       "                             invoice_id invoice_date product_type  \\\n",
       "0  d8dd452d-7b5d-4a69-9d25-9c55c0b908e6  Jan 1, 2022          NaN   \n",
       "1  74af949a-ac7a-4bce-8fa6-e0410952ffda  Jan 2, 2022  EOR Monthly   \n",
       "2  de489739-6bf6-4494-9cff-21f0ff5f6d2f  Jan 2, 2022  EOR Monthly   \n",
       "3  608ca796-b1f3-4515-b2e8-404ffacaca58  Jan 3, 2022  EOR Monthly   \n",
       "4  08ec570b-a42d-437e-990b-aedbea16de9d  Jan 4, 2022  EOR Monthly   \n",
       "\n",
       "  is_recurring invoice_status discount  discounted_amount_usd  amount_usd  \n",
       "0           No       invoiced      NaN                 4076.0        4076  \n",
       "1          Yes        pending      20%                  173.6         217  \n",
       "2           No       invoiced      NaN                  263.0         263  \n",
       "3           No       invoiced      NaN                  300.0         300  \n",
       "4           No       invoiced      NaN                  232.0         232  "
      ]
     },
     "execution_count": 53,
     "metadata": {},
     "output_type": "execute_result"
    }
   ],
   "source": [
    "#check the dataset for first 5 rows\n",
    "\n",
    "dim_invoices.head()\n"
   ]
  },
  {
   "cell_type": "code",
   "execution_count": 54,
   "id": "1262d293-3b7a-49c2-a964-36b1d49772f3",
   "metadata": {},
   "outputs": [
    {
     "name": "stdout",
     "output_type": "stream",
     "text": [
      "<class 'pandas.core.frame.DataFrame'>\n",
      "RangeIndex: 500 entries, 0 to 499\n",
      "Data columns (total 8 columns):\n",
      " #   Column                 Non-Null Count  Dtype  \n",
      "---  ------                 --------------  -----  \n",
      " 0   invoice_id             500 non-null    object \n",
      " 1   invoice_date           500 non-null    object \n",
      " 2   product_type           463 non-null    object \n",
      " 3   is_recurring           500 non-null    object \n",
      " 4   invoice_status         500 non-null    object \n",
      " 5   discount               36 non-null     object \n",
      " 6   discounted_amount_usd  500 non-null    float64\n",
      " 7   amount_usd             500 non-null    int64  \n",
      "dtypes: float64(1), int64(1), object(6)\n",
      "memory usage: 31.4+ KB\n"
     ]
    }
   ],
   "source": [
    "dim_invoices.info()"
   ]
  },
  {
   "cell_type": "code",
   "execution_count": 55,
   "id": "4804120c-a7eb-4367-bbd8-417ae0095776",
   "metadata": {},
   "outputs": [
    {
     "name": "stdout",
     "output_type": "stream",
     "text": [
      "invoice_id               False\n",
      "invoice_date             False\n",
      "product_type              True\n",
      "is_recurring             False\n",
      "invoice_status           False\n",
      "discount                  True\n",
      "discounted_amount_usd    False\n",
      "amount_usd               False\n",
      "dtype: bool\n"
     ]
    }
   ],
   "source": [
    "# check for Null values in each column\n",
    "print(dim_invoices.isnull().any())"
   ]
  },
  {
   "cell_type": "markdown",
   "id": "7ec85ef3-7b38-4d42-a18f-41d9efa95488",
   "metadata": {},
   "source": [
    "Dataset has 500 entries with 8 colunms with 2 columns with NULL values, lets convert the NULL to non-null values"
   ]
  },
  {
   "cell_type": "code",
   "execution_count": 56,
   "id": "8109215f-60dd-4a8f-a216-bc60b74e9ec4",
   "metadata": {},
   "outputs": [],
   "source": [
    "# For the product type we are going to replace NULL with 'Unknown' string value and for the discount column replace NULL with 0%\n",
    "\n",
    "dim_invoices[[\"product_type\"]] = dim_invoices[[\"product_type\"]].fillna(value = \"Unknown\")\n",
    "dim_invoices[[\"discount\"]] = dim_invoices[[\"discount\"]].fillna(value = \"0%\")\n"
   ]
  },
  {
   "cell_type": "code",
   "execution_count": 57,
   "id": "3affac82-6b5f-4d6d-bda8-b2838e35eb71",
   "metadata": {},
   "outputs": [
    {
     "data": {
      "text/plain": [
       "0"
      ]
     },
     "execution_count": 57,
     "metadata": {},
     "output_type": "execute_result"
    }
   ],
   "source": [
    "#Check for duplicates on 'Invoice_id' \n",
    "\n",
    "duplicate_rows = dim_invoices.duplicated(subset=['invoice_id'])\n",
    "duplicate_rows.sum()"
   ]
  },
  {
   "cell_type": "markdown",
   "id": "8388e714-223f-4702-882b-b67913a602b5",
   "metadata": {},
   "source": [
    "#### SalesTerritory Dataset"
   ]
  },
  {
   "cell_type": "code",
   "execution_count": 58,
   "id": "28649fe2-2a30-46e4-aa1e-89d455116c99",
   "metadata": {},
   "outputs": [
    {
     "data": {
      "text/html": [
       "<div>\n",
       "<style scoped>\n",
       "    .dataframe tbody tr th:only-of-type {\n",
       "        vertical-align: middle;\n",
       "    }\n",
       "\n",
       "    .dataframe tbody tr th {\n",
       "        vertical-align: top;\n",
       "    }\n",
       "\n",
       "    .dataframe thead th {\n",
       "        text-align: right;\n",
       "    }\n",
       "</style>\n",
       "<table border=\"1\" class=\"dataframe\">\n",
       "  <thead>\n",
       "    <tr style=\"text-align: right;\">\n",
       "      <th></th>\n",
       "      <th>SalesTerritoryKey</th>\n",
       "      <th>SalesTerritoryAlternateKey</th>\n",
       "      <th>SalesTerritoryRegion</th>\n",
       "      <th>SalesTerritoryCountry</th>\n",
       "      <th>SalesTerritoryGroup</th>\n",
       "    </tr>\n",
       "  </thead>\n",
       "  <tbody>\n",
       "    <tr>\n",
       "      <th>0</th>\n",
       "      <td>1</td>\n",
       "      <td>1</td>\n",
       "      <td>Northwest</td>\n",
       "      <td>United States</td>\n",
       "      <td>North America</td>\n",
       "    </tr>\n",
       "    <tr>\n",
       "      <th>1</th>\n",
       "      <td>2</td>\n",
       "      <td>2</td>\n",
       "      <td>Northeast</td>\n",
       "      <td>United States</td>\n",
       "      <td>North America</td>\n",
       "    </tr>\n",
       "    <tr>\n",
       "      <th>2</th>\n",
       "      <td>3</td>\n",
       "      <td>3</td>\n",
       "      <td>Central</td>\n",
       "      <td>United States</td>\n",
       "      <td>North America</td>\n",
       "    </tr>\n",
       "    <tr>\n",
       "      <th>3</th>\n",
       "      <td>4</td>\n",
       "      <td>4</td>\n",
       "      <td>Southwest</td>\n",
       "      <td>United States</td>\n",
       "      <td>North America</td>\n",
       "    </tr>\n",
       "    <tr>\n",
       "      <th>4</th>\n",
       "      <td>5</td>\n",
       "      <td>5</td>\n",
       "      <td>Southeast</td>\n",
       "      <td>United States</td>\n",
       "      <td>North America</td>\n",
       "    </tr>\n",
       "  </tbody>\n",
       "</table>\n",
       "</div>"
      ],
      "text/plain": [
       "   SalesTerritoryKey  SalesTerritoryAlternateKey SalesTerritoryRegion  \\\n",
       "0                  1                           1            Northwest   \n",
       "1                  2                           2            Northeast   \n",
       "2                  3                           3              Central   \n",
       "3                  4                           4            Southwest   \n",
       "4                  5                           5            Southeast   \n",
       "\n",
       "  SalesTerritoryCountry SalesTerritoryGroup  \n",
       "0         United States       North America  \n",
       "1         United States       North America  \n",
       "2         United States       North America  \n",
       "3         United States       North America  \n",
       "4         United States       North America  "
      ]
     },
     "execution_count": 58,
     "metadata": {},
     "output_type": "execute_result"
    }
   ],
   "source": [
    "#Check the first 5 rows \n",
    "\n",
    "dimsales_.head()"
   ]
  },
  {
   "cell_type": "code",
   "execution_count": 59,
   "id": "d6f230c7-ebc4-4427-a371-1eb8a38e8072",
   "metadata": {},
   "outputs": [
    {
     "name": "stdout",
     "output_type": "stream",
     "text": [
      "SalesTerritoryKey             False\n",
      "SalesTerritoryAlternateKey    False\n",
      "SalesTerritoryRegion           True\n",
      "SalesTerritoryCountry          True\n",
      "SalesTerritoryGroup            True\n",
      "dtype: bool\n"
     ]
    }
   ],
   "source": [
    "#Check for duplicates on SalesTerritoryKey\n",
    "\n",
    "print(dimsales_.isnull().any())"
   ]
  },
  {
   "cell_type": "code",
   "execution_count": 60,
   "id": "d262915c-b03f-469a-82cb-ece81d537ca5",
   "metadata": {},
   "outputs": [
    {
     "name": "stdout",
     "output_type": "stream",
     "text": [
      "<class 'pandas.core.frame.DataFrame'>\n",
      "RangeIndex: 11 entries, 0 to 10\n",
      "Data columns (total 5 columns):\n",
      " #   Column                      Non-Null Count  Dtype \n",
      "---  ------                      --------------  ----- \n",
      " 0   SalesTerritoryKey           11 non-null     int64 \n",
      " 1   SalesTerritoryAlternateKey  11 non-null     int64 \n",
      " 2   SalesTerritoryRegion        10 non-null     object\n",
      " 3   SalesTerritoryCountry       10 non-null     object\n",
      " 4   SalesTerritoryGroup         10 non-null     object\n",
      "dtypes: int64(2), object(3)\n",
      "memory usage: 572.0+ bytes\n"
     ]
    }
   ],
   "source": [
    "#check the dataset info\n",
    "dimsales_.info()"
   ]
  },
  {
   "cell_type": "markdown",
   "id": "9530a734-e03b-42d8-9efe-9a9046079948",
   "metadata": {},
   "source": [
    "Since dataset has only 11 entries  and 5 columns , lets check last 5 rows for the NULL values"
   ]
  },
  {
   "cell_type": "code",
   "execution_count": 61,
   "id": "2083779f-86f2-4b5e-8b8a-7b845a85deec",
   "metadata": {},
   "outputs": [
    {
     "data": {
      "text/html": [
       "<div>\n",
       "<style scoped>\n",
       "    .dataframe tbody tr th:only-of-type {\n",
       "        vertical-align: middle;\n",
       "    }\n",
       "\n",
       "    .dataframe tbody tr th {\n",
       "        vertical-align: top;\n",
       "    }\n",
       "\n",
       "    .dataframe thead th {\n",
       "        text-align: right;\n",
       "    }\n",
       "</style>\n",
       "<table border=\"1\" class=\"dataframe\">\n",
       "  <thead>\n",
       "    <tr style=\"text-align: right;\">\n",
       "      <th></th>\n",
       "      <th>SalesTerritoryKey</th>\n",
       "      <th>SalesTerritoryAlternateKey</th>\n",
       "      <th>SalesTerritoryRegion</th>\n",
       "      <th>SalesTerritoryCountry</th>\n",
       "      <th>SalesTerritoryGroup</th>\n",
       "    </tr>\n",
       "  </thead>\n",
       "  <tbody>\n",
       "    <tr>\n",
       "      <th>6</th>\n",
       "      <td>7</td>\n",
       "      <td>7</td>\n",
       "      <td>France</td>\n",
       "      <td>France</td>\n",
       "      <td>Europe</td>\n",
       "    </tr>\n",
       "    <tr>\n",
       "      <th>7</th>\n",
       "      <td>8</td>\n",
       "      <td>8</td>\n",
       "      <td>Germany</td>\n",
       "      <td>Germany</td>\n",
       "      <td>Europe</td>\n",
       "    </tr>\n",
       "    <tr>\n",
       "      <th>8</th>\n",
       "      <td>9</td>\n",
       "      <td>9</td>\n",
       "      <td>Australia</td>\n",
       "      <td>Australia</td>\n",
       "      <td>Pacific</td>\n",
       "    </tr>\n",
       "    <tr>\n",
       "      <th>9</th>\n",
       "      <td>10</td>\n",
       "      <td>10</td>\n",
       "      <td>United Kingdom</td>\n",
       "      <td>United Kingdom</td>\n",
       "      <td>Europe</td>\n",
       "    </tr>\n",
       "    <tr>\n",
       "      <th>10</th>\n",
       "      <td>11</td>\n",
       "      <td>0</td>\n",
       "      <td>NaN</td>\n",
       "      <td>NaN</td>\n",
       "      <td>NaN</td>\n",
       "    </tr>\n",
       "  </tbody>\n",
       "</table>\n",
       "</div>"
      ],
      "text/plain": [
       "    SalesTerritoryKey  SalesTerritoryAlternateKey SalesTerritoryRegion  \\\n",
       "6                   7                           7               France   \n",
       "7                   8                           8              Germany   \n",
       "8                   9                           9            Australia   \n",
       "9                  10                          10       United Kingdom   \n",
       "10                 11                           0                  NaN   \n",
       "\n",
       "   SalesTerritoryCountry SalesTerritoryGroup  \n",
       "6                 France              Europe  \n",
       "7                Germany              Europe  \n",
       "8              Australia             Pacific  \n",
       "9         United Kingdom              Europe  \n",
       "10                   NaN                 NaN  "
      ]
     },
     "execution_count": 61,
     "metadata": {},
     "output_type": "execute_result"
    }
   ],
   "source": [
    "#Check the last 5 rows \n",
    "\n",
    "dimsales_.tail()"
   ]
  },
  {
   "cell_type": "code",
   "execution_count": 62,
   "id": "3d58be23-ef4f-4e7b-9154-941304c38253",
   "metadata": {},
   "outputs": [],
   "source": [
    "#Replace NULL values with 'Unknown' string \n",
    "\n",
    "dimsales_[[\"SalesTerritoryRegion\",\"SalesTerritoryCountry\",\"SalesTerritoryGroup\"]] = dimsales_[[\"SalesTerritoryRegion\",\"SalesTerritoryCountry\",\"SalesTerritoryGroup\"]].fillna(value = \"Unknown\")"
   ]
  },
  {
   "cell_type": "code",
   "execution_count": 63,
   "id": "146dce29-4c4b-4523-9242-1c1cbf3f494c",
   "metadata": {},
   "outputs": [
    {
     "name": "stdout",
     "output_type": "stream",
     "text": [
      "SalesTerritoryKey             False\n",
      "SalesTerritoryAlternateKey    False\n",
      "SalesTerritoryRegion          False\n",
      "SalesTerritoryCountry         False\n",
      "SalesTerritoryGroup           False\n",
      "dtype: bool\n"
     ]
    }
   ],
   "source": [
    "print(dimsales_.isnull().any())"
   ]
  },
  {
   "cell_type": "code",
   "execution_count": 64,
   "id": "5fe6061a-e9b0-4782-8cf7-01f34f333fa8",
   "metadata": {},
   "outputs": [
    {
     "data": {
      "text/plain": [
       "0"
      ]
     },
     "execution_count": 64,
     "metadata": {},
     "output_type": "execute_result"
    }
   ],
   "source": [
    "#Check for duplicates on 'SalesTerritoryKey \n",
    "\n",
    "duplicate_rows = dimsales_.duplicated(subset=['SalesTerritoryKey'])\n",
    "duplicate_rows.sum()"
   ]
  },
  {
   "cell_type": "markdown",
   "id": "ebc2fec4-b935-47a3-84e7-6cd4817f4461",
   "metadata": {},
   "source": [
    "Now that we have datasets cleaned and checked , lets now write the records in the dataframe into SQL database."
   ]
  },
  {
   "cell_type": "code",
   "execution_count": 65,
   "id": "e8cf927e-45df-4418-8e33-dc621e11f4b0",
   "metadata": {},
   "outputs": [],
   "source": [
    "\n",
    "#create a new database connection called remotedb_test.db\n",
    "conn= sqlite3.connect(\"remote_test.db\")\n"
   ]
  },
  {
   "cell_type": "code",
   "execution_count": 66,
   "id": "ddd28197-608a-4c38-bafa-ea80174ef40f",
   "metadata": {},
   "outputs": [
    {
     "data": {
      "text/plain": [
       "18484"
      ]
     },
     "execution_count": 66,
     "metadata": {},
     "output_type": "execute_result"
    }
   ],
   "source": [
    "# Write the dim_customer dataframe into SQL table\n",
    "dim_customer.to_sql(\n",
    "                'dim_customer',             # Name of the sql table\n",
    "                conn,                 # sqlite.Connection or sqlalchemy.engine.Engine\n",
    "                if_exists='replace',\n",
    "                dtype={'CustomerKey': 'INTEGER PRIMARY KEY'})"
   ]
  },
  {
   "cell_type": "code",
   "execution_count": 67,
   "id": "f67aa75c-2f0c-4b2b-aa4c-0ab9be75c7a0",
   "metadata": {},
   "outputs": [
    {
     "data": {
      "text/plain": [
       "569"
      ]
     },
     "execution_count": 67,
     "metadata": {},
     "output_type": "execute_result"
    }
   ],
   "source": [
    "# Write the dim_product dataframe into SQL table\n",
    "dim_product.to_sql(\n",
    "                'dim_product',             # Name of the sql table\n",
    "                conn,                      # sqlite.Connection or sqlalchemy.engine.Engine\n",
    "                if_exists='replace',\n",
    "                dtype={'ProductKey': 'INTEGER PRIMARY KEY'})"
   ]
  },
  {
   "cell_type": "code",
   "execution_count": 68,
   "id": "64f81a60-d92e-45ec-9a2a-ad98b36a21c2",
   "metadata": {},
   "outputs": [
    {
     "data": {
      "text/plain": [
       "11"
      ]
     },
     "execution_count": 68,
     "metadata": {},
     "output_type": "execute_result"
    }
   ],
   "source": [
    "# Write the dim_sales dataframe into SQL table\n",
    "dimsales_.to_sql(\n",
    "                'dim_sales',             # Name of the sql table\n",
    "                conn,                      # sqlite.Connection or sqlalchemy.engine.Engine\n",
    "                if_exists='replace',\n",
    "                dtype={'SalesTerritoryKey': 'INTEGER PRIMARY KEY'})\n",
    "\n"
   ]
  },
  {
   "cell_type": "code",
   "execution_count": 69,
   "id": "62cda754-2660-48f7-b5b2-fc479b97e679",
   "metadata": {},
   "outputs": [
    {
     "data": {
      "text/plain": [
       "500"
      ]
     },
     "execution_count": 69,
     "metadata": {},
     "output_type": "execute_result"
    }
   ],
   "source": [
    "# Write the dim_sales dataframe into SQL table\n",
    "dim_invoices.to_sql(\n",
    "                'dim_invoices',             # Name of the sql table\n",
    "                conn,                      # sqlite.Connection or sqlalchemy.engine.Engine\n",
    "                if_exists='replace',\n",
    "                dtype={'Invoice_id': 'INTEGER PRIMARY KEY'})"
   ]
  },
  {
   "cell_type": "code",
   "execution_count": 71,
   "id": "5fb49928-fc91-4427-93ab-c7e91688be48",
   "metadata": {},
   "outputs": [
    {
     "data": {
      "text/plain": [
       "60855"
      ]
     },
     "execution_count": 71,
     "metadata": {},
     "output_type": "execute_result"
    }
   ],
   "source": [
    "factrsellers.to_sql(\n",
    "                'fact_resellers',             # Name of the sql table\n",
    "                conn,                      # sqlite.Connection or sqlalchemy.engine.Engine\n",
    "                if_exists='replace',\n",
    "                dtype={'SalesOrderId': 'TEXT PRIMARY KEY'})\n"
   ]
  }
 ],
 "metadata": {
  "kernelspec": {
   "display_name": "Python 3 (ipykernel)",
   "language": "python",
   "name": "python3"
  },
  "language_info": {
   "codemirror_mode": {
    "name": "ipython",
    "version": 3
   },
   "file_extension": ".py",
   "mimetype": "text/x-python",
   "name": "python",
   "nbconvert_exporter": "python",
   "pygments_lexer": "ipython3",
   "version": "3.12.2"
  }
 },
 "nbformat": 4,
 "nbformat_minor": 5
}
